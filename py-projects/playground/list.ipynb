{
 "cells": [
  {
   "cell_type": "code",
   "execution_count": 1,
   "metadata": {},
   "outputs": [
    {
     "name": "stdout",
     "output_type": "stream",
     "text": [
      "Ranpo\n",
      "Javascript\n",
      "Python\n",
      "{'skill': 'Developer', 'favshow': 'Anime', 'lang': ['Javascript', 'Python'], 'fav_color': 'black'}\n",
      "{'fav_color': 'black',\n",
      " 'favshow': 'Anime',\n",
      " 'lang': ['Javascript', 'Python'],\n",
      " 'skill': 'Developer'}\n"
     ]
    }
   ],
   "source": [
    "import pprint\n",
    "import random\n",
    "\n",
    "\n",
    "watch_list = ['Bungou Stray Dogs', 'Tomodachi Game', \n",
    "            'Bleach: TYBW', 'Oppenheimer', 'Jigokuraku']\n",
    "# print(watch_list[0])\n",
    "\n",
    "# watch_list.append('Eminence in Shadow')\n",
    "# print(watch_list[random.randint(0, len(watch_list) - 1)])\n",
    "\n",
    "armed_agency = ['Dazai', 'Ranpo', 'Atsushi']\n",
    "dazai, ranpo, tiger = armed_agency\n",
    "\n",
    "print(ranpo)\n",
    "\n",
    "kc = {\n",
    "    'skill': 'Developer',\n",
    "    'favshow': 'Anime',\n",
    "    'lang': ['Javascript', 'Python']\n",
    "}\n",
    "\n",
    "for lang in kc['lang']:\n",
    "    print(lang)\n",
    "    \n",
    "kc.setdefault('fav_color', 'black')\n",
    "\n",
    "print(kc)\n",
    "pprint.pprint(kc)"
   ]
  },
  {
   "cell_type": "code",
   "execution_count": 2,
   "metadata": {},
   "outputs": [
    {
     "data": {
      "text/plain": [
       "dict_values(['Developer', 'Anime', ['Javascript', 'Python'], 'black'])"
      ]
     },
     "execution_count": 2,
     "metadata": {},
     "output_type": "execute_result"
    }
   ],
   "source": [
    "kc.values()"
   ]
  },
  {
   "cell_type": "code",
   "execution_count": 5,
   "metadata": {},
   "outputs": [
    {
     "name": "stdout",
     "output_type": "stream",
     "text": [
      "Nichijou\n",
      "BungouSD\n",
      "Jigokuraku\n",
      "Bleach:TYBW\n",
      "TomodachiGame\n",
      "Eminence\n"
     ]
    }
   ],
   "source": [
    "interests = 'Nichijou BungouSD Jigokuraku Bleach:TYBW TomodachiGame Eminence'\n",
    "watchlist = interests.split(' ')\n",
    "\n",
    "for anime in watchlist:\n",
    "    print(anime)"
   ]
  },
  {
   "cell_type": "code",
   "execution_count": 2,
   "metadata": {},
   "outputs": [
    {
     "data": {
      "text/plain": [
       "'Jigokuraku'"
      ]
     },
     "execution_count": 2,
     "metadata": {},
     "output_type": "execute_result"
    }
   ],
   "source": [
    "import pyperclip\n",
    "pyperclip.paste()"
   ]
  }
 ],
 "metadata": {
  "kernelspec": {
   "display_name": "Python 3",
   "language": "python",
   "name": "python3"
  },
  "language_info": {
   "codemirror_mode": {
    "name": "ipython",
    "version": 3
   },
   "file_extension": ".py",
   "mimetype": "text/x-python",
   "name": "python",
   "nbconvert_exporter": "python",
   "pygments_lexer": "ipython3",
   "version": "3.12.0"
  }
 },
 "nbformat": 4,
 "nbformat_minor": 2
}
